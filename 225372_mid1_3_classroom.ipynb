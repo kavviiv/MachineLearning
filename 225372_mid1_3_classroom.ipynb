{
 "cells": [
  {
   "cell_type": "markdown",
   "metadata": {},
   "source": [
    " Relative CPU Performance Data (3)\n",
    " \n",
    " Attribute Information:\t\n",
    "       1. vendor name \n",
    "       2. Model Name: many unique symbols\t\n",
    "       3. MYCT: machine cycle time in nanoseconds (integer)\t\n",
    "       4. MMIN: minimum main memory in kilobytes (integer)\t\n",
    "       5. MMAX: maximum main memory in kilobytes (integer)\t\n",
    "       6. CACH: cache memory in kilobytes (integer)\t\n",
    "       7. CHMIN: minimum channels in units (integer)\t\n",
    "       8. CHMAX: maximum channels in units (integer)\t\n",
    "       9. PRP: published relative performance (integer)\t\n",
    "      10. ERP: estimated relative performance from the original article (integer)\n",
    "  \n",
    " กำหนดให้ ข้อมูลประกอบด้วย 10 attribute\n",
    " \n",
    " คำสั่ง\n",
    "      1. จาก attribute ที่ 1-8 ให้นิสิตเลือกเพียง 3 attribute เพื่อทำนาย(predict) ประสิทธิภาพของ cup (PRP)\n",
    "      2. แสดงประสิทธิาพของการทำนาย MAE , MSE, RMSE\n",
    "      3. ระบุเหตุผลในการเลือก 3 attribute ในข้อ 1 \n",
    "      4. ส่งไฟล์เข้า google calssroom โดยระบุรหัสนิสิตนำหน้าชื่อไฟล์ _mid1_3.ipynb เช่น 60123456__mid1_3.ipynb,59123456__mid1_3.ipynb เป็นต้น\n",
    "  \n",
    " (5 คะแนน) \n",
    "  "
   ]
  },
  {
   "cell_type": "code",
   "execution_count": 1,
   "metadata": {},
   "outputs": [],
   "source": [
    "import pandas as pd\n",
    "import seaborn as sns\n",
    "import numpy as np"
   ]
  },
  {
   "cell_type": "code",
   "execution_count": 2,
   "metadata": {},
   "outputs": [],
   "source": [
    "#https://github.com/mathawanup/master_dataset/blob/master/performance.csv\n",
    "url='https://github.com/mathawanup/master_dataset/raw/master/performance.csv'\n",
    "df=pd.read_csv(url)\n",
    "# df.head()"
   ]
  }
 ],
 "metadata": {
  "kernelspec": {
   "display_name": "Python 3",
   "language": "python",
   "name": "python3"
  },
  "language_info": {
   "codemirror_mode": {
    "name": "ipython",
    "version": 3
   },
   "file_extension": ".py",
   "mimetype": "text/x-python",
   "name": "python",
   "nbconvert_exporter": "python",
   "pygments_lexer": "ipython3",
   "version": "3.7.1"
  }
 },
 "nbformat": 4,
 "nbformat_minor": 2
}

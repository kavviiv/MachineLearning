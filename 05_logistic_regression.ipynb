{
 "cells": [
  {
   "cell_type": "markdown",
   "metadata": {},
   "source": [
    "## Logistic Regression Concept\n",
    "#### Probability of passing an exam versus hours of study"
   ]
  },
  {
   "cell_type": "markdown",
   "metadata": {},
   "source": [
    "example: https://en.wikipedia.org/wiki/Logistic_regression#Probability_of_passing_an_exam_versus_hours_of_study"
   ]
  },
  {
   "cell_type": "code",
   "execution_count": null,
   "metadata": {},
   "outputs": [],
   "source": [
    "import pandas as pd\n",
    "import numpy as np\n",
    "import matplotlib.pyplot as plt\n",
    "import seaborn as sns"
   ]
  },
  {
   "cell_type": "code",
   "execution_count": null,
   "metadata": {
    "scrolled": true
   },
   "outputs": [],
   "source": [
    "url='https://github.com/mathawanup/master_dataset/raw/master/study_hours.csv'\n",
    "df=pd.read_csv(url)\n",
    "df"
   ]
  },
  {
   "cell_type": "code",
   "execution_count": null,
   "metadata": {
    "scrolled": true
   },
   "outputs": [],
   "source": [
    "df.T # transpose "
   ]
  },
  {
   "cell_type": "code",
   "execution_count": null,
   "metadata": {
    "scrolled": true
   },
   "outputs": [],
   "source": [
    "sns.scatterplot(data=df, x='Hours', y='Pass') # 1 pass , 0  fail "
   ]
  },
  {
   "cell_type": "code",
   "execution_count": null,
   "metadata": {
    "scrolled": false
   },
   "outputs": [],
   "source": [
    "sns.lmplot(x='Hours', y='Pass', data=df,\n",
    "           logistic=False, ci=None, height=4, aspect=1.5,\n",
    "           line_kws={'color': 'orange'}) # use linear model and linear regression line \n",
    "plt.axhline(0.5, color='red', linestyle='--') # Pass 1 divsion 2 =0.5\n",
    "plt.axvline(2.75, color='green', linestyle='--'); # Hours 5.5 divsion 2 =0.75\n",
    "# crossing x,y,linear regression line"
   ]
  },
  {
   "cell_type": "code",
   "execution_count": null,
   "metadata": {},
   "outputs": [],
   "source": [
    "df.at[19, 'Hours']=200  # fake up  outliner at index 19\n",
    "# df.at[19, 'Hours']=5.5 # original data"
   ]
  },
  {
   "cell_type": "code",
   "execution_count": null,
   "metadata": {
    "scrolled": true
   },
   "outputs": [],
   "source": [
    "sns.lmplot(x='Hours', y='Pass', data=df,\n",
    "           logistic=False, ci=None, height=4, aspect=1.5,\n",
    "           line_kws={'color': 'orange'})\n",
    "plt.axhline(0.5, color='red', linestyle='--');\n",
    "plt.axvline(100, color='green', linestyle='--'); # Hours 200 divsion 2 =100\n",
    "# crossing x,y,linear regression line \n",
    "# Wrong prediction with outliner"
   ]
  },
  {
   "cell_type": "code",
   "execution_count": null,
   "metadata": {},
   "outputs": [],
   "source": [
    "# df.at[19, 'Hours']=100\n",
    "df.at[19, 'Hours']=5.5 # original data"
   ]
  },
  {
   "cell_type": "code",
   "execution_count": null,
   "metadata": {
    "scrolled": true
   },
   "outputs": [],
   "source": [
    "sns.lmplot(x='Hours', y='Pass', data=df,\n",
    "           logistic=True, height=4, aspect=1.5, \n",
    "           line_kws={'color': 'orange'})\n",
    "plt.ylabel('Probability of passing exam')\n",
    "plt.axvline(2.71, color='green', linestyle='--')\n",
    "plt.axhline(0.5, color='red', linestyle='--'); # use logistic model (Sigmoid) ,  logistic=True"
   ]
  },
  {
   "cell_type": "code",
   "execution_count": null,
   "metadata": {},
   "outputs": [],
   "source": [
    "df.at[19, 'Hours']=100  # fake up  outliner at index 19\n",
    "# df.at[19, 'Hours']=5.5 # original data"
   ]
  },
  {
   "cell_type": "code",
   "execution_count": null,
   "metadata": {
    "scrolled": true
   },
   "outputs": [],
   "source": [
    "sns.lmplot(x='Hours', y='Pass', data=df,\n",
    "           logistic=True, height=4, aspect=1.5, \n",
    "           line_kws={'color': 'orange'})\n",
    "plt.ylabel('Probability of passing exam')\n",
    "plt.axvline(2.71, color='green', linestyle='--')\n",
    "plt.axhline(0.5, color='red', linestyle='--');\n",
    "# logistic can predict with outliner "
   ]
  },
  {
   "cell_type": "code",
   "execution_count": null,
   "metadata": {
    "scrolled": true
   },
   "outputs": [],
   "source": [
    "df.at[19, 'Hours']=5.5 # original data\n",
    "df.T"
   ]
  },
  {
   "cell_type": "code",
   "execution_count": null,
   "metadata": {
    "scrolled": true
   },
   "outputs": [],
   "source": [
    "sns.lmplot(x='Hours', y='Pass', data=df,\n",
    "           logistic=True, height=4, aspect=1.5, \n",
    "           line_kws={'color': 'orange'})\n",
    "plt.ylabel('Probability of passing exam')\n",
    "plt.axvline(2.71, color='green', linestyle='--')\n",
    "plt.axhline(0.5, color='red', linestyle='--'); # use logistic model (Sigmoid) ,  logistic=True"
   ]
  },
  {
   "cell_type": "markdown",
   "metadata": {},
   "source": [
    "## Scikit-learn: LogisticRegression\n",
    "ศึกษาเพิ่มเติม: https://scikit-learn.org/stable/modules/generated/sklearn.linear_model.LogisticRegression.html"
   ]
  },
  {
   "cell_type": "code",
   "execution_count": null,
   "metadata": {},
   "outputs": [],
   "source": [
    "from sklearn.model_selection import train_test_split # split data set\n",
    "from sklearn.linear_model import LogisticRegression # Logistic Regression model"
   ]
  },
  {
   "cell_type": "code",
   "execution_count": null,
   "metadata": {},
   "outputs": [],
   "source": [
    "df.T"
   ]
  },
  {
   "cell_type": "code",
   "execution_count": null,
   "metadata": {},
   "outputs": [],
   "source": [
    "y = df['Pass'] # series\n",
    "X = df[['Hours']] # 2D matrix ,data frame\n",
    "test_size=0.3\n",
    "X_train, X_test, y_train, y_test = train_test_split(X, y, test_size=test_size, random_state=7)\n",
    "\n",
    "# random_state for result reproduceable"
   ]
  },
  {
   "cell_type": "code",
   "execution_count": null,
   "metadata": {},
   "outputs": [],
   "source": [
    "# show X_train, X_test, y_train, y_test"
   ]
  },
  {
   "cell_type": "code",
   "execution_count": null,
   "metadata": {},
   "outputs": [],
   "source": [
    "# model = LogisticRegression() # do not hyper parameter\n",
    "model = LogisticRegression(solver='lbfgs')\n",
    "\n",
    "model"
   ]
  },
  {
   "cell_type": "code",
   "execution_count": null,
   "metadata": {},
   "outputs": [],
   "source": [
    "model.fit(X_train, y_train) # fit model"
   ]
  },
  {
   "cell_type": "code",
   "execution_count": null,
   "metadata": {},
   "outputs": [],
   "source": [
    "X_test"
   ]
  },
  {
   "cell_type": "code",
   "execution_count": null,
   "metadata": {},
   "outputs": [],
   "source": [
    "predicted = model.predict(X_test) # y from model predict\n",
    "predicted"
   ]
  },
  {
   "cell_type": "code",
   "execution_count": null,
   "metadata": {},
   "outputs": [],
   "source": [
    "y_test.values # y original data"
   ]
  },
  {
   "cell_type": "code",
   "execution_count": null,
   "metadata": {},
   "outputs": [],
   "source": [
    "model.score(X_test, y_test) # 5/6 , Accuracy model"
   ]
  },
  {
   "cell_type": "code",
   "execution_count": null,
   "metadata": {
    "scrolled": true
   },
   "outputs": [],
   "source": [
    "model.predict_proba(X_test)#  probability [Pass , fail ] , 1- proba_pass=proba_fail"
   ]
  },
  {
   "cell_type": "markdown",
   "metadata": {},
   "source": [
    "## scikit-learn: confusion matrix\n",
    "\n",
    "<table>\n",
    "<tr>\n",
    "    <td></td>\n",
    "    <td>predicted false</td>\n",
    "    <td>predicted true</td>\n",
    "</tr>\n",
    "<tr>\n",
    "    <td>actual false</td>\n",
    "    <td>tn</td>\n",
    "    <td>fp</td>\n",
    "</tr>\n",
    "<tr>\n",
    "    <td>actual true</td>\n",
    "    <td>fn</td>\n",
    "    <td>tp</td>\n",
    "</tr>\n",
    "<table>"
   ]
  },
  {
   "cell_type": "markdown",
   "metadata": {},
   "source": [
    "$$Accuracy={\\frac {{TP+TN} }{TP + TN +FP + FN} }\\\\\n",
    "Precision={\\frac {TP}{TP+FP}}\\\\\n",
    "Recall={\\frac {TP}{TP+FN}}\\\\\n",
    "F1 = 2 \\times {\\frac {precision \\times recall} {precision + recall}}\n",
    "$$"
   ]
  },
  {
   "cell_type": "markdown",
   "metadata": {},
   "source": [
    "* https://scikit-learn.org/stable/modules/model_evaluation.html#classification-metrics\n",
    "* https://scikit-learn.org/stable/modules/generated/sklearn.metrics.confusion_matrix.html\n",
    "* https://en.wikipedia.org/wiki/Confusion_matrix"
   ]
  },
  {
   "cell_type": "code",
   "execution_count": null,
   "metadata": {},
   "outputs": [],
   "source": [
    "from sklearn import metrics"
   ]
  },
  {
   "cell_type": "code",
   "execution_count": null,
   "metadata": {},
   "outputs": [],
   "source": [
    "metrics.confusion_matrix(y_test, predicted)"
   ]
  },
  {
   "cell_type": "code",
   "execution_count": null,
   "metadata": {},
   "outputs": [],
   "source": [
    "metrics.accuracy_score(y_test, predicted)"
   ]
  },
  {
   "cell_type": "code",
   "execution_count": null,
   "metadata": {},
   "outputs": [],
   "source": [
    "metrics.precision_score(y_test, predicted)"
   ]
  },
  {
   "cell_type": "code",
   "execution_count": null,
   "metadata": {},
   "outputs": [],
   "source": [
    "metrics.recall_score(y_test, predicted)"
   ]
  },
  {
   "cell_type": "code",
   "execution_count": null,
   "metadata": {},
   "outputs": [],
   "source": [
    "metrics.f1_score(y_test, predicted)"
   ]
  },
  {
   "cell_type": "code",
   "execution_count": null,
   "metadata": {},
   "outputs": [],
   "source": [
    "print(metrics.classification_report(y_test, predicted))"
   ]
  }
 ],
 "metadata": {
  "kernelspec": {
   "display_name": "Python 3",
   "language": "python",
   "name": "python3"
  },
  "language_info": {
   "codemirror_mode": {
    "name": "ipython",
    "version": 3
   },
   "file_extension": ".py",
   "mimetype": "text/x-python",
   "name": "python",
   "nbconvert_exporter": "python",
   "pygments_lexer": "ipython3",
   "version": "3.7.1"
  }
 },
 "nbformat": 4,
 "nbformat_minor": 2
}

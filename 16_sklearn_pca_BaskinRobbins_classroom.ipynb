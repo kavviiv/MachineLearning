{
 "cells": [
  {
   "cell_type": "markdown",
   "metadata": {},
   "source": [
    "## PCA (BaskinRobbins dataset)\n",
    "* Baskin Robbins nutritional information from http://www.baskinrobbins.ca/nutritional-information/"
   ]
  },
  {
   "cell_type": "code",
   "execution_count": 1,
   "metadata": {},
   "outputs": [],
   "source": [
    "import pandas as pd\n",
    "import numpy as np\n",
    "import matplotlib.pyplot as plt\n",
    "import seaborn as sns\n",
    "%matplotlib inline\n",
    "%config InlineBackend.figure_format='retina'"
   ]
  },
  {
   "cell_type": "code",
   "execution_count": 2,
   "metadata": {
    "scrolled": true
   },
   "outputs": [
    {
     "data": {
      "text/html": [
       "<div>\n",
       "<style scoped>\n",
       "    .dataframe tbody tr th:only-of-type {\n",
       "        vertical-align: middle;\n",
       "    }\n",
       "\n",
       "    .dataframe tbody tr th {\n",
       "        vertical-align: top;\n",
       "    }\n",
       "\n",
       "    .dataframe thead th {\n",
       "        text-align: right;\n",
       "    }\n",
       "</style>\n",
       "<table border=\"1\" class=\"dataframe\">\n",
       "  <thead>\n",
       "    <tr style=\"text-align: right;\">\n",
       "      <th></th>\n",
       "      <th>Flavour</th>\n",
       "      <th>Calories</th>\n",
       "      <th>Total Fat (g)</th>\n",
       "      <th>Trans Fat (g)</th>\n",
       "      <th>Carbohydrates (g)</th>\n",
       "      <th>Sugars (g)</th>\n",
       "      <th>Protein (g)</th>\n",
       "      <th>cluster</th>\n",
       "    </tr>\n",
       "  </thead>\n",
       "  <tbody>\n",
       "    <tr>\n",
       "      <th>11</th>\n",
       "      <td>Chocolate</td>\n",
       "      <td>230</td>\n",
       "      <td>13.0</td>\n",
       "      <td>0.4</td>\n",
       "      <td>25</td>\n",
       "      <td>18</td>\n",
       "      <td>5.0</td>\n",
       "      <td>1</td>\n",
       "    </tr>\n",
       "    <tr>\n",
       "      <th>0</th>\n",
       "      <td>Bananas Foster</td>\n",
       "      <td>160</td>\n",
       "      <td>8.0</td>\n",
       "      <td>0.2</td>\n",
       "      <td>20</td>\n",
       "      <td>16</td>\n",
       "      <td>2.0</td>\n",
       "      <td>0</td>\n",
       "    </tr>\n",
       "    <tr>\n",
       "      <th>51</th>\n",
       "      <td>Raspberry Cheese Louise</td>\n",
       "      <td>220</td>\n",
       "      <td>9.0</td>\n",
       "      <td>0.3</td>\n",
       "      <td>30</td>\n",
       "      <td>24</td>\n",
       "      <td>5.0</td>\n",
       "      <td>1</td>\n",
       "    </tr>\n",
       "    <tr>\n",
       "      <th>25</th>\n",
       "      <td>Gold Medal Ribbon</td>\n",
       "      <td>240</td>\n",
       "      <td>12.0</td>\n",
       "      <td>0.4</td>\n",
       "      <td>30</td>\n",
       "      <td>23</td>\n",
       "      <td>4.0</td>\n",
       "      <td>1</td>\n",
       "    </tr>\n",
       "    <tr>\n",
       "      <th>14</th>\n",
       "      <td>Chocolate Fudge</td>\n",
       "      <td>150</td>\n",
       "      <td>9.0</td>\n",
       "      <td>0.3</td>\n",
       "      <td>17</td>\n",
       "      <td>12</td>\n",
       "      <td>3.0</td>\n",
       "      <td>0</td>\n",
       "    </tr>\n",
       "    <tr>\n",
       "      <th>59</th>\n",
       "      <td>Strawberry Cheesecake</td>\n",
       "      <td>250</td>\n",
       "      <td>13.0</td>\n",
       "      <td>0.4</td>\n",
       "      <td>28</td>\n",
       "      <td>22</td>\n",
       "      <td>4.0</td>\n",
       "      <td>1</td>\n",
       "    </tr>\n",
       "    <tr>\n",
       "      <th>56</th>\n",
       "      <td>Rum Raisin</td>\n",
       "      <td>230</td>\n",
       "      <td>11.0</td>\n",
       "      <td>0.4</td>\n",
       "      <td>30</td>\n",
       "      <td>25</td>\n",
       "      <td>4.0</td>\n",
       "      <td>1</td>\n",
       "    </tr>\n",
       "    <tr>\n",
       "      <th>32</th>\n",
       "      <td>Mango Mania</td>\n",
       "      <td>130</td>\n",
       "      <td>6.0</td>\n",
       "      <td>0.2</td>\n",
       "      <td>17</td>\n",
       "      <td>14</td>\n",
       "      <td>2.0</td>\n",
       "      <td>0</td>\n",
       "    </tr>\n",
       "    <tr>\n",
       "      <th>60</th>\n",
       "      <td>Strawberry Sorbet</td>\n",
       "      <td>70</td>\n",
       "      <td>0.0</td>\n",
       "      <td>0.0</td>\n",
       "      <td>17</td>\n",
       "      <td>13</td>\n",
       "      <td>0.1</td>\n",
       "      <td>2</td>\n",
       "    </tr>\n",
       "    <tr>\n",
       "      <th>19</th>\n",
       "      <td>Cookies ‘n Cream</td>\n",
       "      <td>270</td>\n",
       "      <td>17.0</td>\n",
       "      <td>0.4</td>\n",
       "      <td>25</td>\n",
       "      <td>18</td>\n",
       "      <td>5.0</td>\n",
       "      <td>1</td>\n",
       "    </tr>\n",
       "  </tbody>\n",
       "</table>\n",
       "</div>"
      ],
      "text/plain": [
       "                    Flavour  Calories  Total Fat (g)  Trans Fat (g)  \\\n",
       "11                Chocolate       230           13.0            0.4   \n",
       "0            Bananas Foster       160            8.0            0.2   \n",
       "51  Raspberry Cheese Louise       220            9.0            0.3   \n",
       "25        Gold Medal Ribbon       240           12.0            0.4   \n",
       "14          Chocolate Fudge       150            9.0            0.3   \n",
       "59    Strawberry Cheesecake       250           13.0            0.4   \n",
       "56               Rum Raisin       230           11.0            0.4   \n",
       "32              Mango Mania       130            6.0            0.2   \n",
       "60        Strawberry Sorbet        70            0.0            0.0   \n",
       "19         Cookies ‘n Cream       270           17.0            0.4   \n",
       "\n",
       "    Carbohydrates (g)  Sugars (g)  Protein (g)  cluster  \n",
       "11                 25          18          5.0        1  \n",
       "0                  20          16          2.0        0  \n",
       "51                 30          24          5.0        1  \n",
       "25                 30          23          4.0        1  \n",
       "14                 17          12          3.0        0  \n",
       "59                 28          22          4.0        1  \n",
       "56                 30          25          4.0        1  \n",
       "32                 17          14          2.0        0  \n",
       "60                 17          13          0.1        2  \n",
       "19                 25          18          5.0        1  "
      ]
     },
     "execution_count": 2,
     "metadata": {},
     "output_type": "execute_result"
    }
   ],
   "source": [
    "# https://github.com/mathawanup/basic-dataset-1/blob/master/BaskinRobbinsCluster.csv\n",
    "df=pd.read_csv('https://raw.githubusercontent.com/mathawanup/basic-dataset-1/master/BaskinRobbinsCluster.csv')\n",
    "df.sample(10)"
   ]
  },
  {
   "cell_type": "code",
   "execution_count": 3,
   "metadata": {},
   "outputs": [
    {
     "name": "stdout",
     "output_type": "stream",
     "text": [
      "<class 'pandas.core.frame.DataFrame'>\n",
      "RangeIndex: 70 entries, 0 to 69\n",
      "Data columns (total 8 columns):\n",
      "Flavour              70 non-null object\n",
      "Calories             70 non-null int64\n",
      "Total Fat (g)        70 non-null float64\n",
      "Trans Fat (g)        70 non-null float64\n",
      "Carbohydrates (g)    70 non-null int64\n",
      "Sugars (g)           70 non-null int64\n",
      "Protein (g)          70 non-null float64\n",
      "cluster              70 non-null int64\n",
      "dtypes: float64(3), int64(4), object(1)\n",
      "memory usage: 4.5+ KB\n"
     ]
    }
   ],
   "source": [
    "df.info()"
   ]
  },
  {
   "cell_type": "code",
   "execution_count": 4,
   "metadata": {},
   "outputs": [
    {
     "data": {
      "text/plain": [
       "Index(['Flavour', 'Calories', 'Total Fat (g)', 'Trans Fat (g)',\n",
       "       'Carbohydrates (g)', 'Sugars (g)', 'Protein (g)', 'cluster'],\n",
       "      dtype='object')"
      ]
     },
     "execution_count": 4,
     "metadata": {},
     "output_type": "execute_result"
    }
   ],
   "source": [
    "df.columns"
   ]
  },
  {
   "cell_type": "code",
   "execution_count": 5,
   "metadata": {},
   "outputs": [],
   "source": [
    "cols=['Calories', 'Total Fat (g)', 'Trans Fat (g)',\n",
    "       'Carbohydrates (g)', 'Sugars (g)', 'Protein (g)']"
   ]
  },
  {
   "cell_type": "markdown",
   "metadata": {},
   "source": [
    "## PCA"
   ]
  },
  {
   "cell_type": "code",
   "execution_count": 6,
   "metadata": {},
   "outputs": [],
   "source": [
    "from sklearn.decomposition import PCA\n",
    "from sklearn.preprocessing import StandardScaler"
   ]
  },
  {
   "cell_type": "code",
   "execution_count": null,
   "metadata": {},
   "outputs": [],
   "source": []
  }
 ],
 "metadata": {
  "kernelspec": {
   "display_name": "Python 3",
   "language": "python",
   "name": "python3"
  },
  "language_info": {
   "codemirror_mode": {
    "name": "ipython",
    "version": 3
   },
   "file_extension": ".py",
   "mimetype": "text/x-python",
   "name": "python",
   "nbconvert_exporter": "python",
   "pygments_lexer": "ipython3",
   "version": "3.7.1"
  }
 },
 "nbformat": 4,
 "nbformat_minor": 2
}
